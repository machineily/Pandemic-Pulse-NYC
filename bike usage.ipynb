{
 "cells": [
  {
   "cell_type": "code",
   "execution_count": 2,
   "metadata": {
    "collapsed": true
   },
   "outputs": [],
   "source": [
    "import numpy as np\n",
    "import matplotlib\n",
    "import pandas as pd\n",
    "import matplotlib.pyplot as plt"
   ]
  },
  {
   "cell_type": "code",
   "execution_count": 35,
   "outputs": [
    {
     "name": "stderr",
     "output_type": "stream",
     "text": [
      "C:\\Users\\Xiong\\AppData\\Local\\Temp\\ipykernel_41104\\1641708694.py:8: DtypeWarning: Columns (5,7) have mixed types. Specify dtype option on import or set low_memory=False.\n",
      "  df = pd.read_csv(dataset_name)\n",
      "C:\\Users\\Xiong\\AppData\\Local\\Temp\\ipykernel_41104\\1641708694.py:8: DtypeWarning: Columns (5,7) have mixed types. Specify dtype option on import or set low_memory=False.\n",
      "  df = pd.read_csv(dataset_name)\n",
      "C:\\Users\\Xiong\\AppData\\Local\\Temp\\ipykernel_41104\\1641708694.py:8: DtypeWarning: Columns (5,7) have mixed types. Specify dtype option on import or set low_memory=False.\n",
      "  df = pd.read_csv(dataset_name)\n",
      "C:\\Users\\Xiong\\AppData\\Local\\Temp\\ipykernel_41104\\1641708694.py:8: DtypeWarning: Columns (5,7) have mixed types. Specify dtype option on import or set low_memory=False.\n",
      "  df = pd.read_csv(dataset_name)\n",
      "C:\\Users\\Xiong\\AppData\\Local\\Temp\\ipykernel_41104\\1641708694.py:8: DtypeWarning: Columns (7) have mixed types. Specify dtype option on import or set low_memory=False.\n",
      "  df = pd.read_csv(dataset_name)\n",
      "C:\\Users\\Xiong\\AppData\\Local\\Temp\\ipykernel_41104\\1641708694.py:8: DtypeWarning: Columns (7) have mixed types. Specify dtype option on import or set low_memory=False.\n",
      "  df = pd.read_csv(dataset_name)\n",
      "C:\\Users\\Xiong\\AppData\\Local\\Temp\\ipykernel_41104\\1641708694.py:8: DtypeWarning: Columns (7) have mixed types. Specify dtype option on import or set low_memory=False.\n",
      "  df = pd.read_csv(dataset_name)\n",
      "C:\\Users\\Xiong\\AppData\\Local\\Temp\\ipykernel_41104\\1641708694.py:8: DtypeWarning: Columns (7) have mixed types. Specify dtype option on import or set low_memory=False.\n",
      "  df = pd.read_csv(dataset_name)\n",
      "C:\\Users\\Xiong\\AppData\\Local\\Temp\\ipykernel_41104\\1641708694.py:8: DtypeWarning: Columns (5,7) have mixed types. Specify dtype option on import or set low_memory=False.\n",
      "  df = pd.read_csv(dataset_name)\n",
      "C:\\Users\\Xiong\\AppData\\Local\\Temp\\ipykernel_41104\\1641708694.py:8: DtypeWarning: Columns (5,7) have mixed types. Specify dtype option on import or set low_memory=False.\n",
      "  df = pd.read_csv(dataset_name)\n",
      "C:\\Users\\Xiong\\AppData\\Local\\Temp\\ipykernel_41104\\1641708694.py:8: DtypeWarning: Columns (5,7) have mixed types. Specify dtype option on import or set low_memory=False.\n",
      "  df = pd.read_csv(dataset_name)\n"
     ]
    }
   ],
   "source": [
    "total_per_month = []\n",
    "for year in range (19, 22):\n",
    "    for month in range (1, 13):\n",
    "        m = str(month)\n",
    "        if month < 10:\n",
    "            m = '0' + m\n",
    "        dataset_name = \"dataset/20\" + str(year)+m+'-citibike-tripdata.csv'\n",
    "        df = pd.read_csv(dataset_name)\n",
    "        total_per_month.append(len(df))"
   ],
   "metadata": {
    "collapsed": false
   }
  },
  {
   "cell_type": "code",
   "execution_count": 34,
   "outputs": [
    {
     "name": "stdout",
     "output_type": "stream",
     "text": [
      "[967287]\n"
     ]
    }
   ],
   "source": [
    "print(total_per_month)\n"
   ],
   "metadata": {
    "collapsed": false
   }
  },
  {
   "cell_type": "code",
   "execution_count": 46,
   "outputs": [
    {
     "data": {
      "text/plain": "<Figure size 432x288 with 1 Axes>",
      "image/png": "[encoded data removed]"
     },
     "metadata": {
      "needs_background": "light"
     },
     "output_type": "display_data"
    }
   ],
   "source": [
    "months = ['Jan', 'Feb', 'Mar', 'Apr', 'May', 'Jun', 'Jul', 'Aug', 'Sep', 'Oct', 'Nov', 'Dec']\n",
    "monthly_count = np.arange(len(months))\n",
    "# plt.plot(x, y, color = 'green')\n",
    "# print(y)\n",
    "\n",
    "\n",
    "bar_width = 0.25\n",
    "fig, ax = plt.subplots()\n",
    "ax.bar(monthly_count + 3*bar_width/3 , total_per_month[24:36], width = bar_width, label = '2021')\n",
    "ax.bar(monthly_count, total_per_month[12:24], width = bar_width, label = '2020')\n",
    "ax.bar(monthly_count - 3*bar_width/3, total_per_month[0:12], width = bar_width, label = '2019')\n",
    "ax.set_xticks(monthly_count)\n",
    "ax.set_xticklabels(months)\n",
    "ax.set_xlabel('Month')\n",
    "ax.set_ylabel('Total Count of Bike Usage')\n",
    "ax.set_title('Total Count per Month in 2019, 2020, 2021')\n",
    "ax.legend()\n",
    "\n",
    "# Show the plot\n",
    "plt.show()\n",
    "\n",
    "# plt.figure(figsize=(20,6))\n",
    "# plt.bar(monthly_count, y, color = 'yellow')\n",
    "# plt.bar(monthly_count, total_per_month[12:24], color = 'red')\n",
    "# # plt.bar(monthly_count, total_per_month[24:35], color = 'green')\n",
    "# plt.xticks(rotation=30, horizontalalignment=\"center\")\n",
    "# plt.xlabel(\"Month\")\n",
    "# plt.ylabel(\"Number of infected\")\n",
    "# plt.title(\"Infected per month\")"
   ],
   "metadata": {
    "collapsed": false
   }
  },
  {
   "cell_type": "code",
   "execution_count": 25,
   "outputs": [
    {
     "data": {
      "text/plain": "<Figure size 432x288 with 1 Axes>",
      "image/png": "[encoded data removed]"
     },
     "metadata": {
      "needs_background": "light"
     },
     "output_type": "display_data"
    }
   ],
   "source": [],
   "metadata": {
    "collapsed": false
   }
  },
  {
   "cell_type": "code",
   "execution_count": null,
   "outputs": [],
   "source": [],
   "metadata": {
    "collapsed": false
   }
  }
 ],
 "metadata": {
  "kernelspec": {
   "display_name": "Python 3",
   "language": "python",
   "name": "python3"
  },
  "language_info": {
   "codemirror_mode": {
    "name": "ipython",
    "version": 2
   },
   "file_extension": ".py",
   "mimetype": "text/x-python",
   "name": "python",
   "nbconvert_exporter": "python",
   "pygments_lexer": "ipython2",
   "version": "2.7.6"
  }
 },
 "nbformat": 4,
 "nbformat_minor": 0
}
